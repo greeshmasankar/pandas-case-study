{
  "nbformat": 4,
  "nbformat_minor": 0,
  "metadata": {
    "colab": {
      "provenance": []
    },
    "kernelspec": {
      "name": "python3",
      "display_name": "Python 3"
    },
    "language_info": {
      "name": "python"
    }
  },
  "cells": [
    {
      "cell_type": "markdown",
      "source": [
        "# 1. Area of a circle"
      ],
      "metadata": {
        "id": "7W4aCamEg3Xc"
      }
    },
    {
      "cell_type": "code",
      "source": [
        "radius=int(input(\"Enter the radius of the circle:  \"))\n",
        "Area=3.14*radius**2\n",
        "print(\"Area of a circle;\", Area)\n"
      ],
      "metadata": {
        "colab": {
          "base_uri": "https://localhost:8080/"
        },
        "id": "KlydQsgOhEzZ",
        "outputId": "2a616cf1-3719-4e24-ff70-b49bc7978fee"
      },
      "execution_count": 4,
      "outputs": [
        {
          "output_type": "stream",
          "name": "stdout",
          "text": [
            "Enter the radius of the circle:  3\n",
            "Area of a circle; 28.26\n"
          ]
        }
      ]
    },
    {
      "cell_type": "markdown",
      "source": [
        "# 2."
      ],
      "metadata": {
        "id": "uymbcKgsuxPq"
      }
    },
    {
      "cell_type": "code",
      "source": [
        "Name=input(\"Enter the Name: \")\n",
        "Rollno=int(input(\"Enter the roll no: \"))\n",
        "Mark=int(input(\"Enter the mark: \"))\n",
        "print(\"Name:\", Name)\n",
        "print(\"Rollno:\" , Rollno)\n",
        "print(\"Mark:\", Mark)"
      ],
      "metadata": {
        "colab": {
          "base_uri": "https://localhost:8080/"
        },
        "id": "L2ZZ4mJwmJ7C",
        "outputId": "f8a88b08-6bb7-44a5-d36d-2cdb6eb9dc5f"
      },
      "execution_count": 23,
      "outputs": [
        {
          "output_type": "stream",
          "name": "stdout",
          "text": [
            "Enter the Name: Anisha\n",
            "Enter the roll no: 21\n",
            "Enter the mark: 78\n",
            "Name: Anisha\n",
            "Rollno: 21\n",
            "Mark: 78\n"
          ]
        }
      ]
    },
    {
      "cell_type": "markdown",
      "source": [
        "# **3**."
      ],
      "metadata": {
        "id": "6ROVn1Vfu_L0"
      }
    },
    {
      "cell_type": "code",
      "source": [
        "Numbers=[12,3,47,10]\n",
        "print(max(Numbers))"
      ],
      "metadata": {
        "colab": {
          "base_uri": "https://localhost:8080/"
        },
        "id": "f77bYUJIo-Rw",
        "outputId": "cffbea24-fef5-4392-bb3c-6ff27aff523d"
      },
      "execution_count": 25,
      "outputs": [
        {
          "output_type": "stream",
          "name": "stdout",
          "text": [
            "47\n"
          ]
        }
      ]
    },
    {
      "cell_type": "markdown",
      "source": [
        "# 4."
      ],
      "metadata": {
        "id": "0OnsmYY0vKCC"
      }
    },
    {
      "cell_type": "code",
      "source": [
        "\n",
        "previous_num= 0\n",
        "\n",
        "for i in range(1,11):\n",
        "  sum= previous_num + i\n",
        "  print(\"Current Number:\", i, \"Previous Number:\", previous_num ,\"Sum:\",sum )\n",
        "  previous_num=i"
      ],
      "metadata": {
        "colab": {
          "base_uri": "https://localhost:8080/"
        },
        "id": "WlnFmrsJuRJB",
        "outputId": "0a6735eb-915c-42fa-ee0d-72912b968e83"
      },
      "execution_count": 29,
      "outputs": [
        {
          "output_type": "stream",
          "name": "stdout",
          "text": [
            "Current Number: 1 Previous Number: 0 Sum: 1\n",
            "Current Number: 2 Previous Number: 1 Sum: 3\n",
            "Current Number: 3 Previous Number: 2 Sum: 5\n",
            "Current Number: 4 Previous Number: 3 Sum: 7\n",
            "Current Number: 5 Previous Number: 4 Sum: 9\n",
            "Current Number: 6 Previous Number: 5 Sum: 11\n",
            "Current Number: 7 Previous Number: 6 Sum: 13\n",
            "Current Number: 8 Previous Number: 7 Sum: 15\n",
            "Current Number: 9 Previous Number: 8 Sum: 17\n",
            "Current Number: 10 Previous Number: 9 Sum: 19\n"
          ]
        }
      ]
    },
    {
      "cell_type": "markdown",
      "source": [
        "# **5.**"
      ],
      "metadata": {
        "id": "ircaijtowET1"
      }
    },
    {
      "cell_type": "code",
      "source": [
        "Number=[10,20,33,46,55]\n",
        "print(\"The numbers are\", Number)\n",
        "print( \"divisible by 5 are \")\n",
        "for i in Number:\n",
        "  if i%5==0 :\n",
        "    print(i)"
      ],
      "metadata": {
        "colab": {
          "base_uri": "https://localhost:8080/"
        },
        "id": "4_SFEca3vfdm",
        "outputId": "bf343144-b6c1-4fb4-b0bb-1437897f0e6e"
      },
      "execution_count": 38,
      "outputs": [
        {
          "output_type": "stream",
          "name": "stdout",
          "text": [
            "The numbers are [10, 20, 33, 46, 55]\n",
            "divisible by 5 are \n",
            "10\n",
            "20\n",
            "55\n"
          ]
        }
      ]
    },
    {
      "cell_type": "markdown",
      "source": [
        "# **6.**"
      ],
      "metadata": {
        "id": "KUyTdscRyUtO"
      }
    },
    {
      "cell_type": "code",
      "source": [
        "n=int(input(\"Enter the no: \"))\n",
        "if n>1:\n",
        "  for i in range(2,n):\n",
        "   if n % i==0:\n",
        "    print(n, \"is not prime\")\n",
        "    break\n",
        "  else:\n",
        "    print(n, \"is prime Number\")\n",
        "else:\n",
        "  print(n, \"is not prime  Number\")"
      ],
      "metadata": {
        "colab": {
          "base_uri": "https://localhost:8080/"
        },
        "id": "0WNIEJj1xAtT",
        "outputId": "4b6d8e4b-db45-4a72-dddf-5a09ac3148ff"
      },
      "execution_count": 39,
      "outputs": [
        {
          "output_type": "stream",
          "name": "stdout",
          "text": [
            "Enter the no: 3\n",
            "3 is prime\n"
          ]
        }
      ]
    },
    {
      "cell_type": "markdown",
      "source": [
        "# **7.**"
      ],
      "metadata": {
        "id": "ghj6u3bB0x89"
      }
    },
    {
      "cell_type": "code",
      "source": [
        "No=[54,2,6,3,90,30]\n",
        "for i in No[::-1]:\n",
        "  print(i)\n",
        ""
      ],
      "metadata": {
        "colab": {
          "base_uri": "https://localhost:8080/"
        },
        "id": "44RC0zJCy8LN",
        "outputId": "abd3f543-1f85-4557-c3d5-29bd96ef014d"
      },
      "execution_count": 41,
      "outputs": [
        {
          "output_type": "stream",
          "name": "stdout",
          "text": [
            "30\n",
            "90\n",
            "3\n",
            "6\n",
            "2\n",
            "54\n"
          ]
        }
      ]
    },
    {
      "cell_type": "markdown",
      "source": [
        "# 8."
      ],
      "metadata": {
        "id": "KzRw-5Gh2HnZ"
      }
    },
    {
      "cell_type": "code",
      "source": [
        "def pattern(n):\n",
        "  for i in range(1,n+1):\n",
        "    for j in range(1,i+1):\n",
        "      print(\"*\", end=\"\")\n",
        "    print(\"\")\n",
        "\n",
        "n=int(input(\"Enter a number:\"))\n",
        "pattern(n)"
      ],
      "metadata": {
        "colab": {
          "base_uri": "https://localhost:8080/"
        },
        "id": "wjtlVkCR12zy",
        "outputId": "bcd912b0-2739-474c-9e88-d1f504180f73"
      },
      "execution_count": 42,
      "outputs": [
        {
          "output_type": "stream",
          "name": "stdout",
          "text": [
            "Enter a number:6\n",
            "*\n",
            "**\n",
            "***\n",
            "****\n",
            "*****\n",
            "******\n"
          ]
        }
      ]
    },
    {
      "cell_type": "markdown",
      "source": [
        "# **9.**"
      ],
      "metadata": {
        "id": "EI9XKZD63tDd"
      }
    },
    {
      "cell_type": "code",
      "source": [
        "nos =[14,12,17]\n",
        "print(max(nos))"
      ],
      "metadata": {
        "colab": {
          "base_uri": "https://localhost:8080/"
        },
        "id": "n8H-whEA3hFL",
        "outputId": "cd88a562-116f-49f8-81fe-08aaff6073ac"
      },
      "execution_count": 43,
      "outputs": [
        {
          "output_type": "stream",
          "name": "stdout",
          "text": [
            "17\n"
          ]
        }
      ]
    },
    {
      "cell_type": "markdown",
      "source": [
        "# **10.**"
      ],
      "metadata": {
        "id": "NJB4frwU4MpY"
      }
    },
    {
      "cell_type": "code",
      "source": [
        "def newpattern(n):\n",
        "\n",
        "    for i in range(1,n+1):\n",
        "      print('*' * i)\n",
        "\n",
        "      #for j in range(1,i+1):\n",
        "        #print(\"*\", end=\"\")\n",
        "     # print(\"\")\n",
        "\n",
        "\n",
        "# Construct the lower part of the pattern\n",
        "    for i in range(n - 1, 0, -1):\n",
        "       print('*' * i)\n",
        "\n",
        "\n",
        "\n",
        "\n",
        "n=int(input(\"Enter a number:\"))\n",
        "newpattern(n)\n"
      ],
      "metadata": {
        "colab": {
          "base_uri": "https://localhost:8080/"
        },
        "id": "O5LMD0jY4C9n",
        "outputId": "9e8afa98-b0cd-4bd4-9d35-48336c5f91d4"
      },
      "execution_count": 44,
      "outputs": [
        {
          "output_type": "stream",
          "name": "stdout",
          "text": [
            "Enter a number:8\n",
            "*\n",
            "**\n",
            "***\n",
            "****\n",
            "*****\n",
            "******\n",
            "*******\n",
            "********\n",
            "*******\n",
            "******\n",
            "*****\n",
            "****\n",
            "***\n",
            "**\n",
            "*\n"
          ]
        }
      ]
    },
    {
      "cell_type": "code",
      "source": [],
      "metadata": {
        "id": "zcXvckuw4U3e"
      },
      "execution_count": null,
      "outputs": []
    }
  ]
}