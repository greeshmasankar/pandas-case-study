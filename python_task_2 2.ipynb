{
  "nbformat": 4,
  "nbformat_minor": 0,
  "metadata": {
    "colab": {
      "provenance": []
    },
    "kernelspec": {
      "name": "python3",
      "display_name": "Python 3"
    },
    "language_info": {
      "name": "python"
    }
  },
  "cells": [
    {
      "cell_type": "code",
      "execution_count": 15,
      "metadata": {
        "colab": {
          "base_uri": "https://localhost:8080/"
        },
        "id": "sPQQaSa15Vpk",
        "outputId": "bbd78352-25ee-4572-9397-7bcd80a50f78"
      },
      "outputs": [
        {
          "output_type": "stream",
          "name": "stdout",
          "text": [
            "Enter a string value: assembly\n",
            "Sample output: a=1, s=2, e=1, m=1, b=1, l=1, y=1, \n"
          ]
        }
      ],
      "source": [
        "def count_characters(string):\n",
        "    # Create an empty dictionary to store character counts\n",
        "    char_count = {}\n",
        "\n",
        "    # Count each character in the string\n",
        "    for char in string:\n",
        "        if char in char_count:\n",
        "            char_count[char] += 1\n",
        "        else:\n",
        "            char_count[char] = 1\n",
        "\n",
        "    return char_count\n",
        "\n",
        "# Prompt the user to enter a string\n",
        "input_string = input(\"Enter a string value: \")\n",
        "character_counts = count_characters(input_string)\n",
        "print(\"Sample output:\", end=\" \")\n",
        "for char, count in character_counts.items():\n",
        "    print(f\"{char}={count},\", end=\" \")\n",
        "print()"
      ]
    },
    {
      "cell_type": "markdown",
      "source": [
        "# **2.**"
      ],
      "metadata": {
        "id": "BaWv1BL3_1R4"
      }
    },
    {
      "cell_type": "code",
      "source": [
        "a=int(input(\"enter the first no: \"))\n",
        "b=int(input(\"enter the second no: \"))\n",
        "c=int(input(\"enter the third no: \"))\n",
        "if a>b and a>c:\n",
        "  print(a, \"is the biggest\")\n",
        "elif b>a and b>c:\n",
        "  print(b, \"is the greatest\")\n",
        "else:\n",
        "  print(c, \"is the biggest\")"
      ],
      "metadata": {
        "colab": {
          "base_uri": "https://localhost:8080/"
        },
        "id": "7lVR2eWz_7I6",
        "outputId": "5438b1aa-1cc4-4919-fd4a-ace0e21ccbce"
      },
      "execution_count": 16,
      "outputs": [
        {
          "output_type": "stream",
          "name": "stdout",
          "text": [
            "enter the first no: 34\n",
            "enter the second no: 12\n",
            "enter the third no: 7\n",
            "34 is the biggest\n"
          ]
        }
      ]
    },
    {
      "cell_type": "code",
      "source": [],
      "metadata": {
        "id": "nFtSOCSIBIr8"
      },
      "execution_count": 16,
      "outputs": []
    },
    {
      "cell_type": "markdown",
      "source": [
        "# **3.**"
      ],
      "metadata": {
        "id": "ymkj-jp_BVMx"
      }
    },
    {
      "cell_type": "code",
      "source": [
        "def expp(base,exp):\n",
        "  print(base**exp)\n",
        "\n",
        "base=int(input(\"Enter the base:\"))\n",
        "exp=int(input(\"Enter the exponent:\"))\n",
        "\n",
        "expp(base,exp)"
      ],
      "metadata": {
        "colab": {
          "base_uri": "https://localhost:8080/"
        },
        "id": "UyaCWZR1BZ3M",
        "outputId": "56985e05-3a21-4dd7-8d37-6fcecfeb441f"
      },
      "execution_count": 26,
      "outputs": [
        {
          "output_type": "stream",
          "name": "stdout",
          "text": [
            "Enter the base:2\n",
            "Enter the exponent:3\n",
            "8\n"
          ]
        }
      ]
    },
    {
      "cell_type": "markdown",
      "source": [
        "# 4."
      ],
      "metadata": {
        "id": "lggs6d3lC0rZ"
      }
    },
    {
      "cell_type": "code",
      "source": [
        "def cube(n):\n",
        "  sum=0\n",
        "  for i in range(1,n):\n",
        "    sum += i**3\n",
        "\n",
        "  return sum\n",
        "\n",
        "n=int(input(\"Enter a number:\"))\n",
        "cube(n)"
      ],
      "metadata": {
        "colab": {
          "base_uri": "https://localhost:8080/"
        },
        "id": "d-iUkxW8BmaV",
        "outputId": "f1d645bc-b36c-4349-8de8-4111fc2e3931"
      },
      "execution_count": 18,
      "outputs": [
        {
          "name": "stdout",
          "output_type": "stream",
          "text": [
            "Enter a number:4\n"
          ]
        },
        {
          "output_type": "execute_result",
          "data": {
            "text/plain": [
              "36"
            ]
          },
          "metadata": {},
          "execution_count": 18
        }
      ]
    },
    {
      "cell_type": "markdown",
      "source": [
        "# **5.**"
      ],
      "metadata": {
        "id": "ymEV7f3zEK7e"
      }
    },
    {
      "cell_type": "code",
      "source": [
        "for i in range (1,11):\n",
        "  if i % 2 == 0 and  i % 5 ==0 :\n",
        "    print(\"FizzBuzz\")\n",
        "  elif i % 2 ==0 :\n",
        "    print(\"Fizz\")\n",
        "  elif i % 5==0:\n",
        "    print(\"Buzz\")\n",
        "  else:\n",
        "    print(i)"
      ],
      "metadata": {
        "colab": {
          "base_uri": "https://localhost:8080/"
        },
        "id": "Fo9ssXNgDKrv",
        "outputId": "dbe868eb-0188-4145-f55e-ce1b3d791f92"
      },
      "execution_count": 19,
      "outputs": [
        {
          "output_type": "stream",
          "name": "stdout",
          "text": [
            "1\n",
            "Fizz\n",
            "3\n",
            "Fizz\n",
            "Buzz\n",
            "Fizz\n",
            "7\n",
            "Fizz\n",
            "9\n",
            "FizzBuzz\n"
          ]
        }
      ]
    },
    {
      "cell_type": "markdown",
      "source": [
        "# 6."
      ],
      "metadata": {
        "id": "N57BmNhuFHxt"
      }
    },
    {
      "cell_type": "code",
      "source": [
        "def most_frequent(numbers):\n",
        "    frequency = {}\n",
        "\n",
        "    # Count frequency of each number in the list\n",
        "    for num in numbers:\n",
        "        if num in frequency:\n",
        "            frequency[num] += 1\n",
        "        else:\n",
        "            frequency[num] = 1\n",
        "\n",
        "    # Find the number with maximum frequency\n",
        "    most_frequent_num = None\n",
        "    max_frequency = 0\n",
        "    for num, freq in frequency.items():\n",
        "        if freq > max_frequency:\n",
        "            max_frequency = freq\n",
        "            most_frequent_num = num\n",
        "\n",
        "    return most_frequent_num\n",
        "\n",
        "numbers = [2, 3, 4, 2, 5, 2]\n",
        "\n",
        "# Find the most frequent number\n",
        "result = most_frequent(numbers)\n",
        "print(f\"The most frequent number is: {result}\")"
      ],
      "metadata": {
        "colab": {
          "base_uri": "https://localhost:8080/"
        },
        "id": "RP_mFmH6EXsi",
        "outputId": "edca6cc4-7fe6-4d9e-fb5a-a4c1809885f5"
      },
      "execution_count": 20,
      "outputs": [
        {
          "output_type": "stream",
          "name": "stdout",
          "text": [
            "The most frequent number is: 2\n"
          ]
        }
      ]
    },
    {
      "cell_type": "markdown",
      "source": [
        "# 7."
      ],
      "metadata": {
        "id": "19jp2LaAFglI"
      }
    },
    {
      "cell_type": "code",
      "source": [
        "def listsum(numbers):\n",
        "  sum=0\n",
        "  for i in numbers:\n",
        "    sum += i **2\n",
        "  return sum\n",
        "\n",
        "numbers=[2,1,3,1]\n",
        "listsum(numbers)"
      ],
      "metadata": {
        "colab": {
          "base_uri": "https://localhost:8080/"
        },
        "id": "Ae-zY5VfFYCN",
        "outputId": "86646e6a-3eba-48c7-c1e8-acd2d120fda6"
      },
      "execution_count": 21,
      "outputs": [
        {
          "output_type": "execute_result",
          "data": {
            "text/plain": [
              "15"
            ]
          },
          "metadata": {},
          "execution_count": 21
        }
      ]
    },
    {
      "cell_type": "markdown",
      "source": [
        "# **8.**"
      ],
      "metadata": {
        "id": "y_vZewgiGAVv"
      }
    },
    {
      "cell_type": "code",
      "source": [
        "for i in range(1,16):\n",
        "  if i%2==0:\n",
        "    print(i,\"Is even\")\n",
        "  else:\n",
        "    print(i,\"Is odd\")"
      ],
      "metadata": {
        "colab": {
          "base_uri": "https://localhost:8080/"
        },
        "id": "_UNRWGFxFrqB",
        "outputId": "7873489b-3544-423b-9b6e-8b8d19d27637"
      },
      "execution_count": 22,
      "outputs": [
        {
          "output_type": "stream",
          "name": "stdout",
          "text": [
            "1 Is odd\n",
            "2 Is even\n",
            "3 Is odd\n",
            "4 Is even\n",
            "5 Is odd\n",
            "6 Is even\n",
            "7 Is odd\n",
            "8 Is even\n",
            "9 Is odd\n",
            "10 Is even\n",
            "11 Is odd\n",
            "12 Is even\n",
            "13 Is odd\n",
            "14 Is even\n",
            "15 Is odd\n"
          ]
        }
      ]
    },
    {
      "cell_type": "markdown",
      "source": [
        "# **9.**"
      ],
      "metadata": {
        "id": "A1bzh43bHFOp"
      }
    },
    {
      "cell_type": "code",
      "source": [
        "def celsius_to_fahrenheit(celsius):\n",
        "    fahrenheit = (celsius * 9/5) + 32\n",
        "    return fahrenheit\n",
        "\n",
        "def fahrenheit_to_celsius(fahrenheit):\n",
        "    celsius = (fahrenheit - 32) * 5/9\n",
        "    return celsius\n",
        "\n",
        "# Example usage:\n",
        "celsius_temperature = 5\n",
        "fahrenheit_temperature = 41\n",
        "\n",
        "converted_fahrenheit = celsius_to_fahrenheit(celsius_temperature)\n",
        "converted_celsius = fahrenheit_to_celsius(fahrenheit_temperature)\n",
        "\n",
        "print(f\"{celsius_temperature} degrees Celsius is equal to {converted_fahrenheit} degrees Fahrenheit.\")\n",
        "print(f\"{fahrenheit_temperature} degrees Fahrenheit is equal to {converted_celsius} degrees Celsius.\")"
      ],
      "metadata": {
        "colab": {
          "base_uri": "https://localhost:8080/"
        },
        "id": "lC28vpH4G4Rm",
        "outputId": "8ca627d6-9023-4b89-f98e-e3eb8227dd8b"
      },
      "execution_count": 23,
      "outputs": [
        {
          "output_type": "stream",
          "name": "stdout",
          "text": [
            "5 degrees Celsius is equal to 41.0 degrees Fahrenheit.\n",
            "41 degrees Fahrenheit is equal to 5.0 degrees Celsius.\n"
          ]
        }
      ]
    },
    {
      "cell_type": "markdown",
      "source": [
        "# 10."
      ],
      "metadata": {
        "id": "FilJSGMzH6oL"
      }
    },
    {
      "cell_type": "code",
      "source": [
        "def fact(n):\n",
        "  if n==0:\n",
        "    return 1\n",
        "\n",
        "     # Recursive case: factorial of n is n multiplied by factorial of (n-1)\n",
        "  else:\n",
        "        return n * fact(n - 1)\n",
        "\n",
        "n=int(input(\"Enter a number:\"))\n",
        "fact(n)"
      ],
      "metadata": {
        "colab": {
          "base_uri": "https://localhost:8080/"
        },
        "id": "W_XYDwhJIOXB",
        "outputId": "6e00e73a-0803-4f49-abcf-cad77ac9931d"
      },
      "execution_count": 25,
      "outputs": [
        {
          "name": "stdout",
          "output_type": "stream",
          "text": [
            "Enter a number:3\n"
          ]
        },
        {
          "output_type": "execute_result",
          "data": {
            "text/plain": [
              "6"
            ]
          },
          "metadata": {},
          "execution_count": 25
        }
      ]
    },
    {
      "cell_type": "code",
      "source": [],
      "metadata": {
        "id": "WSn7PirbKQYb"
      },
      "execution_count": null,
      "outputs": []
    }
  ]
}